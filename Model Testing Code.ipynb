{
 "cells": [
  {
   "cell_type": "code",
   "execution_count": 1,
   "id": "d2ddf011",
   "metadata": {},
   "outputs": [],
   "source": [
    "import pandas as pd\n",
    "import joblib"
   ]
  },
  {
   "cell_type": "code",
   "execution_count": 2,
   "id": "2a46c37d",
   "metadata": {},
   "outputs": [],
   "source": [
    "# load trained model\n",
    "\n",
    "model = joblib.load(\"Car_price_model.pkl\")"
   ]
  },
  {
   "cell_type": "code",
   "execution_count": 4,
   "id": "2cc2e915",
   "metadata": {},
   "outputs": [],
   "source": [
    "# Example input\n",
    "\n",
    "input_data = pd.DataFrame([{\n",
    "    'Year': 2018,\n",
    "    'Kilometers_Driven': 25000,\n",
    "    'Mileage': 18.5,\n",
    "    'Engine': 1197,\n",
    "    'Power': 82.0,\n",
    "    'Seats': 5,\n",
    "    'brand': 'Maruti',\n",
    "    'Fuel_Type_Diesel': 0,\n",
    "    'Fuel_Type_Electric': 0,\n",
    "    'Fuel_Type_LPG': 0,\n",
    "    'Fuel_Type_Petrol': 1,\n",
    "    'Transmission_Manual': 1,\n",
    "    'Owner_Type_Fourth & Above': 0,\n",
    "    'Owner_Type_Second': 0,\n",
    "    'Owner_Type_Third': 0\n",
    "}])"
   ]
  },
  {
   "cell_type": "code",
   "execution_count": 5,
   "id": "3b30aaaa",
   "metadata": {},
   "outputs": [],
   "source": [
    "# One-hot encode for brand same as training\n",
    "\n",
    "input_data= pd.get_dummies(input_data, columns=['brand'], drop_first=True)"
   ]
  },
  {
   "cell_type": "code",
   "execution_count": 9,
   "id": "ea8177e4",
   "metadata": {},
   "outputs": [],
   "source": [
    "# Align columns with training features\n",
    "\n",
    "trained_features = model.feature_names_in_\n",
    "input_data = input_data.reindex(columns=trained_features, fill_value=0)"
   ]
  },
  {
   "cell_type": "code",
   "execution_count": 10,
   "id": "814384d0",
   "metadata": {},
   "outputs": [
    {
     "name": "stdout",
     "output_type": "stream",
     "text": [
      "Predicted Car Price : Rs. 7.04 Lakh\n"
     ]
    }
   ],
   "source": [
    "# Predict\n",
    "\n",
    "predicted_price = model.predict(input_data)[0]\n",
    "print(f\"Predicted Car Price : Rs. {predicted_price:.2f} Lakh\")"
   ]
  },
  {
   "cell_type": "code",
   "execution_count": null,
   "id": "b4e3445f",
   "metadata": {},
   "outputs": [],
   "source": []
  }
 ],
 "metadata": {
  "kernelspec": {
   "display_name": "Python 3 (ipykernel)",
   "language": "python",
   "name": "python3"
  },
  "language_info": {
   "codemirror_mode": {
    "name": "ipython",
    "version": 3
   },
   "file_extension": ".py",
   "mimetype": "text/x-python",
   "name": "python",
   "nbconvert_exporter": "python",
   "pygments_lexer": "ipython3",
   "version": "3.11.4"
  }
 },
 "nbformat": 4,
 "nbformat_minor": 5
}
